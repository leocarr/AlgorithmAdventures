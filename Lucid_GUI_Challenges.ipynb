{
 "cells": [
  {
   "cell_type": "markdown",
   "id": "9019b8bf",
   "metadata": {},
   "source": [
    "# Lucid GUI Challenges\n",
    "## Interactive Programming with Lucid GUI\n",
    "**Instructions:** Complete each challenge by running the provided code blocks and modifying them as needed.\n",
    "\n",
    "**Library Installation:** If you haven't installed the Lucid library, run the following command first:\n",
    "\n",
    "```python\n",
    "!pip install lucid-gui  # Uncomment if needed\n",
    "```\n"
   ]
  },
  {
   "cell_type": "markdown",
   "id": "8ba1812a",
   "metadata": {},
   "source": [
    "## Challenge 1: Create a Graphics Window\n",
    "**Task:** Create a window that is a quarter of your screen size.\n",
    "\n",
    "**Hint:** Use the `lucid.Window(name, width, height)` function.\n"
   ]
  },
  {
   "cell_type": "code",
   "execution_count": null,
   "id": "14caa169",
   "metadata": {},
   "outputs": [],
   "source": [
    "import lucid as lu\n",
    "\n",
    "# Define screen size\n",
    "screen_w = 1080\n",
    "screen_h = 720\n",
    "\n",
    "# Create a window\n",
    "win = lu.Window('My Window', screen_w // 2, screen_h // 2)"
   ]
  },
  {
   "cell_type": "markdown",
   "id": "49383835",
   "metadata": {},
   "source": [
    "## Challenge 2: Draw Rectangles in Each Corner\n",
    "**Task:** Draw four rectangles, one in each corner, each occupying one-quarter of the screen.\n",
    "\n",
    "**Hint:** Use `lucid.Rectangle(win, x, y, width, height)`.\n"
   ]
  },
  {
   "cell_type": "code",
   "execution_count": null,
   "id": "b78b84e0",
   "metadata": {},
   "outputs": [],
   "source": [
    "rect1 = lu.Rectangle(win, 0, 0, screen_w // 2, screen_h // 2)\n",
    "rect2 = lu.Rectangle(win, screen_w // 2, 0, screen_w // 2, screen_h // 2)\n",
    "rect3 = lu.Rectangle(win, 0, screen_h // 2, screen_w // 2, screen_h // 2)\n",
    "rect4 = lu.Rectangle(win, screen_w // 2, screen_h // 2, screen_w // 2, screen_h // 2)"
   ]
  },
  {
   "cell_type": "markdown",
   "id": "63472a9b",
   "metadata": {},
   "source": [
    "## Challenge 3: Add Colors to Rectangles\n",
    "**Task:** Make each rectangle a different color using `rect.fill = colorname` or `rect.fill = lu.rgb(r,g,b)`.\n"
   ]
  },
  {
   "cell_type": "code",
   "execution_count": null,
   "id": "d6e286e5",
   "metadata": {},
   "outputs": [],
   "source": [
    "rect1.fill = 'red'\n",
    "rect2.fill = 'blue'\n",
    "rect3.fill = 'green'\n",
    "rect4.fill = 'yellow'"
   ]
  },
  {
   "cell_type": "markdown",
   "id": "790aa097",
   "metadata": {},
   "source": [
    "## Challenge 4: Draw the 'Deathly Hallows' Symbol\n",
    "**Task:** Use lines and circles to recreate the symbol.\n",
    "\n",
    "**Hint:** Use `lu.Line(win, x1, y1, x2, y2)` and `lu.Circle(win, x, y, radius)`.\n"
   ]
  },
  {
   "cell_type": "code",
   "execution_count": null,
   "id": "3b27cfa2",
   "metadata": {},
   "outputs": [],
   "source": [
    "line1 = lu.Line(win, 100, 400, 300, 100)\n",
    "line2 = lu.Line(win, 300, 100, 500, 400)\n",
    "line3 = lu.Line(win, 500, 400, 100, 400)\n",
    "circle = lu.Circle(win, 300, 250, 80)"
   ]
  },
  {
   "cell_type": "markdown",
   "id": "6cccd55f",
   "metadata": {},
   "source": [
    "## Challenge 5: Draw a Random Shape\n",
    "**Task:** Create a shape of a random size and color each time the program runs.\n",
    "\n",
    "**Hint:** Use the `random` module.\n"
   ]
  },
  {
   "cell_type": "code",
   "execution_count": null,
   "id": "b8779b2f",
   "metadata": {},
   "outputs": [],
   "source": [
    "import random\n",
    "size = random.randint(50, 200)\n",
    "col_r = random.randint(0, 255)\n",
    "col_g = random.randint(0, 255)\n",
    "col_b = random.randint(0, 255)\n",
    "shape = lu.Circle(win, 300, 300, size)\n",
    "shape.fill = lu.rgb(col_r, col_g, col_b)"
   ]
  },
  {
   "cell_type": "markdown",
   "id": "7551ab75",
   "metadata": {},
   "source": [
    "## Challenge 6: Draw a Pattern with Random Colors\n",
    "**Task:** Create a repeating pattern where each shape has a random color.\n"
   ]
  },
  {
   "cell_type": "code",
   "execution_count": null,
   "id": "040a7558",
   "metadata": {},
   "outputs": [],
   "source": [
    "for x in range(0, screen_w, 50):\n",
    "    for y in range(0, screen_h, 50):\n",
    "        rect = lu.Rectangle(win, x, y, 50, 50)\n",
    "        rect.fill = lu.rgb(random.randint(0, 255), random.randint(0, 255), random.randint(0, 255))"
   ]
  }
 ],
 "metadata": {
  "kernelspec": {
   "display_name": "Python 3 (ipykernel)",
   "language": "python",
   "name": "python3"
  },
  "language_info": {
   "codemirror_mode": {
    "name": "ipython",
    "version": 3
   },
   "file_extension": ".py",
   "mimetype": "text/x-python",
   "name": "python",
   "nbconvert_exporter": "python",
   "pygments_lexer": "ipython3",
   "version": "3.13.2"
  }
 },
 "nbformat": 4,
 "nbformat_minor": 5
}
